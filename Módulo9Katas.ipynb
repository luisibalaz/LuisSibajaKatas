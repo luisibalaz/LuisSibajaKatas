{
  "cells": [
    {
      "cell_type": "markdown",
      "metadata": {},
      "source": [
        "# Ejercicio: Uso de funciones en Python"
      ]
    },
    {
      "cell_type": "markdown",
      "metadata": {},
      "source": [
        "### Ejercicio 1: Trabajar con argumentos en funciones\n",
        "\n",
        "Los argumentos requeridos en las funciones se utilizan cuando las funciones necesitan que esos argumentos funcionen correctamente. En este ejercicio, construirás un informe de combustible que requiere información de varias ubicaciones de combustible en todo el cohete.\n",
        "\n"
      ]
    },
    {
      "cell_type": "markdown",
      "metadata": {},
      "source": [
        "> **TIP**\n",
        "> Dedica unos minutos para tratar de encontrar una solución. Luego desplázate hacia abajo hasta la parte inferior para ver si has logrado compilar el programa de acuerdo con las especificaciones\n",
        "\n",
        "Comienza por crear una función que necesite tres lecturas de combustible y devuelva un informe:"
      ]
    },
    {
      "cell_type": "code",
      "execution_count": 10,
      "metadata": {},
      "outputs": [],
      "source": [
        "# Función para leer 3 tanques de combustible y muestre el promedio\n",
        "def tanque_prom(tanque1, tanque2, tanque3):\n",
        "    avg = (tanque1+tanque2+tanque3)/3\n",
        "    return f\"\"\"Reporte\n",
        "    Tanque 1: {tanque1}\n",
        "    Tanque 2: {tanque2}\n",
        "    Tanque 3: {tanque3}\n",
        "    Promedio: {avg}\"\"\""
      ]
    },
    {
      "cell_type": "markdown",
      "metadata": {},
      "source": [
        "Ahora que hemos definido la función de informes, vamos a comprobarlo. Para esta misión, los tanques no están llenos:"
      ]
    },
    {
      "cell_type": "code",
      "execution_count": 11,
      "metadata": {},
      "outputs": [
        {
          "name": "stdout",
          "output_type": "stream",
          "text": [
            "Reporte\n",
            "    Tanque 1: 50\n",
            "    Tanque 2: 60\n",
            "    Tanque 3: 90\n",
            "    Promedio: 66.66666666666667\n"
          ]
        }
      ],
      "source": [
        "# Llamamos a la función que genera el reporte print(funcion(tanque1, tanque2, tanque3))\n",
        "print(tanque_prom(50,60,90))"
      ]
    },
    {
      "cell_type": "markdown",
      "metadata": {},
      "source": [
        "En lugar de simplemente crear el informe, la función también está calculando el promedio. Mejora la legibilidad extrayendo el cálculo promedio de la función en una nueva función para que el promedio se pueda hacer de forma independiente:"
      ]
    },
    {
      "cell_type": "code",
      "execution_count": 15,
      "metadata": {},
      "outputs": [],
      "source": [
        "# Función promedio\n",
        "def promedio(*numeros):\n",
        "    return sum(numeros)/len(numeros)"
      ]
    },
    {
      "cell_type": "markdown",
      "metadata": {},
      "source": [
        "Ahora actualiza la función de informes para llamando a la nueva función del promedio:\n"
      ]
    },
    {
      "cell_type": "code",
      "execution_count": 16,
      "metadata": {},
      "outputs": [],
      "source": [
        "# Actualiza la función\n",
        "def tanque_prom(tanque1, tanque2, tanque3):\n",
        "    return f\"\"\"Reporte\n",
        "    Tanque 1: {tanque1}\n",
        "    Tanque 2: {tanque2}\n",
        "    Tanque 3: {tanque3}\n",
        "    Promedio: {promedio(tanque1,tanque2,tanque3)}\"\"\""
      ]
    },
    {
      "cell_type": "code",
      "execution_count": 17,
      "metadata": {},
      "outputs": [
        {
          "name": "stdout",
          "output_type": "stream",
          "text": [
            "Reporte\n",
            "    Tanque 1: 50\n",
            "    Tanque 2: 60\n",
            "    Tanque 3: 90\n",
            "    Promedio: 66.66666666666667\n"
          ]
        }
      ],
      "source": [
        "print(tanque_prom(50,60,90))"
      ]
    },
    {
      "cell_type": "markdown",
      "metadata": {},
      "source": [
        "> Recuerda: Lo importante es intentarlo, puedes auxiliarte de internet, libros, etc. El objetivo de una kata es la comprobación de la comprensión de la lección y su aplicación inmediata a la resolución de problemas. Go for it!"
      ]
    },
    {
      "cell_type": "markdown",
      "metadata": {},
      "source": [
        "## Ejercicio 2: Trabajo con argumentos de palabra clave"
      ]
    },
    {
      "cell_type": "markdown",
      "metadata": {},
      "source": [
        "### Ejercicio : Trabajar con argumentos de palabras clave en funciones\n",
        "En este ejercicio, construirás un informe de cohete que requiere varias piezas de información, como el tiempo hasta el destino, el combustible a la izquierda y el nombre del destino. Comienza por crear una función que creará un informe preciso de la misión:"
      ]
    },
    {
      "cell_type": "code",
      "execution_count": 19,
      "metadata": {},
      "outputs": [
        {
          "name": "stdout",
          "output_type": "stream",
          "text": [
            "Informe preciso de la misión:\n",
            "    Duración total: 27\n",
            "    Destino: Marte\n",
            "    Combustible restante: 175\n",
            "    \n"
          ]
        }
      ],
      "source": [
        "# Función con un informe preciso de la misión. Considera hora de prelanzamiento, tiempo de vuelo, destino, tanque externo y tanque interno\n",
        "def informe_preciso(hora_pre, t_vuelo, destino, tanque_ext, tanque_int):\n",
        "    return f\"\"\"Informe preciso de la misión:\n",
        "    Duración total: {hora_pre + t_vuelo}\n",
        "    Destino: {destino}\n",
        "    Combustible restante: {tanque_ext + tanque_int}\n",
        "    \"\"\"\n",
        "\n",
        "print(informe_preciso(10,17,\"Marte\",100,75))"
      ]
    },
    {
      "cell_type": "markdown",
      "metadata": {},
      "source": [
        "La función es problemática porque no se puede adaptar para minutos adicionales o tanques adicionales de combustible. Hazlo más flexible permitiendo cualquier número de pasos basados en el tiempo y cualquier número de tanques. En lugar de usar `*args` y `**kwargs`, aprovecha el hecho de que puedes usar cualquier nombre que desees. Asegurate que la función sea más legible mediante el uso de nombres de variables que están asociados con las entradas, como `*minutes` y `**fuel_reservoirs`:"
      ]
    },
    {
      "cell_type": "code",
      "execution_count": 20,
      "metadata": {},
      "outputs": [
        {
          "name": "stdout",
          "output_type": "stream",
          "text": [
            "Informe preciso de la misión:\n",
            "    Duración total: 135 minutos\n",
            "    Destino: Marte\n",
            "    Combustible restante: 290\n",
            "    \n"
          ]
        }
      ],
      "source": [
        "# Escribe tu nueva función de reporte considerando lo anterior\n",
        "def informe_preciso(destino, *minutos, **tanques):\n",
        "    return f\"\"\"Informe preciso de la misión:\n",
        "    Duración total: {sum(minutos)} minutos\n",
        "    Destino: {destino}\n",
        "    Combustible restante: {sum(tanques.values())}\n",
        "    \"\"\"\n",
        "\n",
        "print(informe_preciso(\"Marte\",60,75,tanque1=30,tanque2=60,tanque3=200))"
      ]
    },
    {
      "cell_type": "markdown",
      "metadata": {},
      "source": [
        "Debido a que el combustible que queda en los tanques es específico de cada tanque, actualiza la función para usar el nombre de cada tanque en el informe:"
      ]
    },
    {
      "cell_type": "code",
      "execution_count": 27,
      "metadata": {},
      "outputs": [
        {
          "name": "stdout",
          "output_type": "stream",
          "text": [
            "Informe preciso de la misión:\n",
            "Duración total: 135 minutos\n",
            "Destino: Marte\n",
            "Combustible restante total: 290\n",
            "Combustible por tanques:\n",
            "tanque1: 30\n",
            "tanque2: 60\n",
            "tanque3: 200\n",
            "\n",
            "\n"
          ]
        }
      ],
      "source": [
        "# Escribe tu nueva función\n",
        "# Escribe tu nueva función de reporte considerando lo anterior\n",
        "def informe_preciso(destino, *minutos, **tanques):\n",
        "    tanques_cont = \"\"\n",
        "    for key in tanques:\n",
        "        tanques_cont += f\"{key}: {tanques[key]}\\n\"\n",
        "    return f\"\"\"Informe preciso de la misión:\n",
        "Duración total: {sum(minutos)} minutos\n",
        "Destino: {destino}\n",
        "Combustible restante total: {sum(tanques.values())}\n",
        "Combustible por tanques:\n",
        "{tanques_cont}\n",
        "\"\"\"\n",
        "\n",
        "print(informe_preciso(\"Marte\",60,75,tanque1=30,tanque2=60,tanque3=200))"
      ]
    }
  ],
  "metadata": {
    "interpreter": {
      "hash": "205095b8b86ea82a021a8fc2ffba2b3bc9f8d0be25999901963b225939f75778"
    },
    "kernelspec": {
      "display_name": "Python 3.8.10 64-bit ('tmp': conda)",
      "name": "python3"
    },
    "language_info": {
      "codemirror_mode": {
        "name": "ipython",
        "version": 3
      },
      "file_extension": ".py",
      "mimetype": "text/x-python",
      "name": "python",
      "nbconvert_exporter": "python",
      "pygments_lexer": "ipython3",
      "version": "3.10.2"
    },
    "nteract": {
      "version": "nteract-front-end@1.0.0"
    },
    "orig_nbformat": 4
  },
  "nbformat": 4,
  "nbformat_minor": 2
}
